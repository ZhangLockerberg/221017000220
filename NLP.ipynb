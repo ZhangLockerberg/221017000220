{
 "cells": [
  {
   "cell_type": "raw",
   "metadata": {},
   "source": [
    "!git clone https://github.com/DavidSheh/CommonChineseCharacter.git"
   ]
  },
  {
   "cell_type": "code",
   "execution_count": 1,
   "metadata": {},
   "outputs": [
    {
     "name": "stderr",
     "output_type": "stream",
     "text": [
      "Using TensorFlow backend.\n",
      "D:\\miniconda\\envs\\dl-pytorch-1.7.0\\lib\\site-packages\\tensorflow\\python\\framework\\dtypes.py:523: FutureWarning: Passing (type, 1) or '1type' as a synonym of type is deprecated; in a future version of numpy, it will be understood as (type, (1,)) / '(1,)type'.\n",
      "  _np_qint8 = np.dtype([(\"qint8\", np.int8, 1)])\n",
      "D:\\miniconda\\envs\\dl-pytorch-1.7.0\\lib\\site-packages\\tensorflow\\python\\framework\\dtypes.py:524: FutureWarning: Passing (type, 1) or '1type' as a synonym of type is deprecated; in a future version of numpy, it will be understood as (type, (1,)) / '(1,)type'.\n",
      "  _np_quint8 = np.dtype([(\"quint8\", np.uint8, 1)])\n",
      "D:\\miniconda\\envs\\dl-pytorch-1.7.0\\lib\\site-packages\\tensorflow\\python\\framework\\dtypes.py:525: FutureWarning: Passing (type, 1) or '1type' as a synonym of type is deprecated; in a future version of numpy, it will be understood as (type, (1,)) / '(1,)type'.\n",
      "  _np_qint16 = np.dtype([(\"qint16\", np.int16, 1)])\n",
      "D:\\miniconda\\envs\\dl-pytorch-1.7.0\\lib\\site-packages\\tensorflow\\python\\framework\\dtypes.py:526: FutureWarning: Passing (type, 1) or '1type' as a synonym of type is deprecated; in a future version of numpy, it will be understood as (type, (1,)) / '(1,)type'.\n",
      "  _np_quint16 = np.dtype([(\"quint16\", np.uint16, 1)])\n",
      "D:\\miniconda\\envs\\dl-pytorch-1.7.0\\lib\\site-packages\\tensorflow\\python\\framework\\dtypes.py:527: FutureWarning: Passing (type, 1) or '1type' as a synonym of type is deprecated; in a future version of numpy, it will be understood as (type, (1,)) / '(1,)type'.\n",
      "  _np_qint32 = np.dtype([(\"qint32\", np.int32, 1)])\n",
      "D:\\miniconda\\envs\\dl-pytorch-1.7.0\\lib\\site-packages\\tensorflow\\python\\framework\\dtypes.py:532: FutureWarning: Passing (type, 1) or '1type' as a synonym of type is deprecated; in a future version of numpy, it will be understood as (type, (1,)) / '(1,)type'.\n",
      "  np_resource = np.dtype([(\"resource\", np.ubyte, 1)])\n"
     ]
    }
   ],
   "source": [
    "import pandas as pd\n",
    "from keras import preprocessing\n",
    "\n",
    "def constructor(path=None):\n",
    "    with open(path,'r',encoding='gbk',errors='ignore') as f:  #txt为ANSI格式\n",
    "        df = []\n",
    "        for line in f.readlines():\n",
    "            df.append(line.strip().split('\\t'))\n",
    "        data = pd.DataFrame(df)\n",
    "        f.close()\n",
    "    return data\n",
    "\n",
    "pos = constructor('D:/娱乐交接文档/MD明星指数模型/可视化项目/mightUse/pos60000.txt')\n",
    "neg = constructor('D:/娱乐交接文档/MD明星指数模型/可视化项目/mightUse/neg60000.txt')\n",
    "dic = constructor('D:/娱乐交接文档/MD明星指数模型/可视化项目/mightUse/7000常用字优化版.txt')"
   ]
  },
  {
   "cell_type": "code",
   "execution_count": 2,
   "metadata": {},
   "outputs": [
    {
     "name": "stdout",
     "output_type": "stream",
     "text": [
      "[836, 1626, 202, 1744, 433, 771, 5346, 795, 1776, 2010, 1144, 4858, 484, 2555, 3577, 433, 334, 771, 766, 47, 50, 53, 46, 509, 4104, 770, 375, 457, 1341, 4808, 1885, 3566, 366, 433, 1776, 685, 1130, 1211, 2886, 3428, 5510]\n"
     ]
    }
   ],
   "source": [
    "hashmap = {}\n",
    "tmp = []\n",
    "for i in dic.iloc[:,0]:\n",
    "    for char in i:\n",
    "        tmp.append(char)\n",
    "for i,char in enumerate(tmp):\n",
    "    hashmap[char] = i + 1\n",
    "\n",
    "sample = '如果不使用关键字的话，你就必须调用去关闭file对象并且立即释放被占用的任何系统资源'\n",
    "sample_data = []\n",
    "for _ in sample:\n",
    "    sample_data.append(hashmap.get(_))\n",
    "sample_data = list(filter(None, sample_data)) #中文字符的，。不包含在内\n",
    "print(sample_data)"
   ]
  },
  {
   "cell_type": "code",
   "execution_count": 3,
   "metadata": {},
   "outputs": [
    {
     "name": "stderr",
     "output_type": "stream",
     "text": [
      "D:\\miniconda\\envs\\dl-pytorch-1.7.0\\lib\\site-packages\\ipykernel_launcher.py:11: VisibleDeprecationWarning: Creating an ndarray from ragged nested sequences (which is a list-or-tuple of lists-or-tuples-or ndarrays with different lengths or shapes) is deprecated. If you meant to do this, you must specify 'dtype=object' when creating the ndarray\n",
      "  # This is added back by InteractiveShellApp.init_path()\n"
     ]
    }
   ],
   "source": [
    "import numpy as np\n",
    "def processor(data):\n",
    "    result = []\n",
    "    for line in data.iloc[:,0]:\n",
    "        line_list = []\n",
    "        for char in line:\n",
    "            idx = hashmap.get(char)\n",
    "            line_list.append(idx)\n",
    "        line_list = list(filter(None, line_list)) #去除未匹配元素\n",
    "        result.append(line_list)\n",
    "    return np.array(result)\n",
    "\n",
    "pos_list = processor(pos)\n",
    "neg_list = processor(neg)"
   ]
  },
  {
   "cell_type": "code",
   "execution_count": 4,
   "metadata": {},
   "outputs": [],
   "source": [
    "def train_data_prep(pos, neg):\n",
    "    non_label = np.concatenate((pos, neg),axis=0)\n",
    "    labels = np.concatenate((np.ones(len(pos),dtype=int), np.zeros(len(neg),dtype=int)))\n",
    "    with_label = np.stack((non_label, labels),axis=1)\n",
    "    np.random.shuffle(with_label)\n",
    "    cut_idx = int(len(with_label)/2)\n",
    "    (x_train, y_train),(x_test, y_test) = (with_label[0:cut_idx][:,0],with_label[0:cut_idx][:,1]),\\\n",
    "                                            (with_label[cut_idx:][:,0],with_label[cut_idx:][:,1])\n",
    "    return (x_train, y_train), (x_test, y_test)\n",
    "\n",
    "(x_train, y_train), (x_test, y_test) = train_data_prep(pos_list, neg_list)"
   ]
  },
  {
   "cell_type": "code",
   "execution_count": 5,
   "metadata": {},
   "outputs": [],
   "source": [
    "maxlen = 50 #截断前50个词语\n",
    "x_train = preprocessing.sequence.pad_sequences(x_train, maxlen=maxlen)\n",
    "x_test = preprocessing.sequence.pad_sequences(x_test, maxlen=maxlen)"
   ]
  },
  {
   "cell_type": "code",
   "execution_count": 6,
   "metadata": {},
   "outputs": [
    {
     "name": "stdout",
     "output_type": "stream",
     "text": [
      "WARNING:tensorflow:From D:\\miniconda\\envs\\dl-pytorch-1.7.0\\lib\\site-packages\\keras\\backend\\tensorflow_backend.py:1205: calling reduce_prod (from tensorflow.python.ops.math_ops) with keep_dims is deprecated and will be removed in a future version.\n",
      "Instructions for updating:\n",
      "keep_dims is deprecated, use keepdims instead\n",
      "WARNING:tensorflow:From D:\\miniconda\\envs\\dl-pytorch-1.7.0\\lib\\site-packages\\keras\\backend\\tensorflow_backend.py:1290: calling reduce_mean (from tensorflow.python.ops.math_ops) with keep_dims is deprecated and will be removed in a future version.\n",
      "Instructions for updating:\n",
      "keep_dims is deprecated, use keepdims instead\n",
      "_________________________________________________________________\n",
      "Layer (type)                 Output Shape              Param #   \n",
      "=================================================================\n",
      "embedding_1 (Embedding)      (None, 50, 8)             64000     \n",
      "_________________________________________________________________\n",
      "flatten_1 (Flatten)          (None, 400)               0         \n",
      "_________________________________________________________________\n",
      "dense_1 (Dense)              (None, 1)                 401       \n",
      "=================================================================\n",
      "Total params: 64,401\n",
      "Trainable params: 64,401\n",
      "Non-trainable params: 0\n",
      "_________________________________________________________________\n"
     ]
    }
   ],
   "source": [
    "from keras.models import Sequential\n",
    "from keras.layers import Flatten, Dense, Embedding\n",
    "\n",
    "model = Sequential()\n",
    "model.add(Embedding(8000, 8, input_length=maxlen))\n",
    "model.add(Flatten())\n",
    "model.add(Dense(1, activation='sigmoid'))\n",
    "model.compile(optimizer='rmsprop',loss='binary_crossentropy',metrics=['acc'])\n",
    "model.summary()"
   ]
  },
  {
   "cell_type": "code",
   "execution_count": 7,
   "metadata": {
    "scrolled": false
   },
   "outputs": [
    {
     "name": "stdout",
     "output_type": "stream",
     "text": [
      "Train on 48000 samples, validate on 12000 samples\n",
      "Epoch 1/10\n",
      "48000/48000 [==============================] - 2s - loss: 0.3464 - acc: 0.8738 - val_loss: 0.2484 - val_acc: 0.9146\n",
      "Epoch 2/10\n",
      "48000/48000 [==============================] - 2s - loss: 0.2195 - acc: 0.9250 - val_loss: 0.2395 - val_acc: 0.9178\n",
      "Epoch 3/10\n",
      "48000/48000 [==============================] - 2s - loss: 0.2087 - acc: 0.9292 - val_loss: 0.2404 - val_acc: 0.9192\n",
      "Epoch 4/10\n",
      "48000/48000 [==============================] - 2s - loss: 0.2027 - acc: 0.9321 - val_loss: 0.2406 - val_acc: 0.9183\n",
      "Epoch 5/10\n",
      "48000/48000 [==============================] - 2s - loss: 0.1972 - acc: 0.9341 - val_loss: 0.2431 - val_acc: 0.9186\n",
      "Epoch 6/10\n",
      "48000/48000 [==============================] - 2s - loss: 0.1918 - acc: 0.9370 - val_loss: 0.2457 - val_acc: 0.9151\n",
      "Epoch 7/10\n",
      "48000/48000 [==============================] - 2s - loss: 0.1865 - acc: 0.9389 - val_loss: 0.2468 - val_acc: 0.9176\n",
      "Epoch 8/10\n",
      "48000/48000 [==============================] - 2s - loss: 0.1805 - acc: 0.9414 - val_loss: 0.2501 - val_acc: 0.9143\n",
      "Epoch 9/10\n",
      "48000/48000 [==============================] - 2s - loss: 0.1750 - acc: 0.9442 - val_loss: 0.2533 - val_acc: 0.9131\n",
      "Epoch 10/10\n",
      "48000/48000 [==============================] - 2s - loss: 0.1687 - acc: 0.9473 - val_loss: 0.2582 - val_acc: 0.9137\n"
     ]
    }
   ],
   "source": [
    "history = model.fit(x_train, y_train,\n",
    "                   epochs=10,\n",
    "                   batch_size=32,\n",
    "                   validation_split=0.2)"
   ]
  },
  {
   "cell_type": "code",
   "execution_count": 8,
   "metadata": {},
   "outputs": [],
   "source": [
    "import matplotlib.pyplot as plt\n",
    "def plot(history):\n",
    "    acc = history.history['acc']\n",
    "    val_acc = history.history['val_acc']\n",
    "    loss = history.history['loss']\n",
    "    val_loss = history.history['val_loss']\n",
    "\n",
    "    epochs = range(1, len(acc) + 1)\n",
    "    plt.plot(epochs, acc, 'bo', label='Training acc')\n",
    "    plt.plot(epochs, val_acc, 'b', label='Validation acc')\n",
    "    plt.title('Training and Validation accuracy')\n",
    "    plt.legend()\n",
    "\n",
    "    plt.figure()\n",
    "\n",
    "    plt.plot(epochs, loss, 'bo', label='Training loss')\n",
    "    plt.plot(epochs, val_loss, 'b', label='Validation loss')\n",
    "    plt.title('Training and Validation loss')\n",
    "    plt.legend()\n",
    "\n",
    "    plt.show()"
   ]
  },
  {
   "cell_type": "code",
   "execution_count": 9,
   "metadata": {},
   "outputs": [
    {
     "data": {
      "image/png": "[encoded data removed]",
      "text/plain": [
       "<Figure size 432x288 with 1 Axes>"
      ]
     },
     "metadata": {
      "needs_background": "light"
     },
     "output_type": "display_data"
    },
    {
     "data": {
      "image/png": "[encoded data removed]",
      "text/plain": [
       "<Figure size 432x288 with 1 Axes>"
      ]
     },
     "metadata": {
      "needs_background": "light"
     },
     "output_type": "display_data"
    }
   ],
   "source": [
    "plot(history)"
   ]
  },
  {
   "cell_type": "code",
   "execution_count": 10,
   "metadata": {},
   "outputs": [
    {
     "name": "stdout",
     "output_type": "stream",
     "text": [
      "WARNING:tensorflow:From D:\\miniconda\\envs\\dl-pytorch-1.7.0\\lib\\site-packages\\keras\\backend\\tensorflow_backend.py:1188: calling reduce_sum (from tensorflow.python.ops.math_ops) with keep_dims is deprecated and will be removed in a future version.\n",
      "Instructions for updating:\n",
      "keep_dims is deprecated, use keepdims instead\n",
      "Train on 48000 samples, validate on 12000 samples\n",
      "Epoch 1/10\n",
      "48000/48000 [==============================] - 28s - loss: 0.3011 - acc: 0.8854 - val_loss: 0.2117 - val_acc: 0.9217\n",
      "Epoch 2/10\n",
      "48000/48000 [==============================] - 41s - loss: 0.1913 - acc: 0.9307 - val_loss: 0.2038 - val_acc: 0.9220\n",
      "Epoch 3/10\n",
      "48000/48000 [==============================] - 44s - loss: 0.1781 - acc: 0.9351 - val_loss: 0.2007 - val_acc: 0.9223\n",
      "Epoch 4/10\n",
      "48000/48000 [==============================] - 34s - loss: 0.1695 - acc: 0.9378 - val_loss: 0.1989 - val_acc: 0.9218\n",
      "Epoch 5/10\n",
      "48000/48000 [==============================] - 42s - loss: 0.1607 - acc: 0.9412 - val_loss: 0.1979 - val_acc: 0.9225\n",
      "Epoch 6/10\n",
      "48000/48000 [==============================] - 44s - loss: 0.1519 - acc: 0.9441 - val_loss: 0.2002 - val_acc: 0.9249\n",
      "Epoch 7/10\n",
      "48000/48000 [==============================] - 41s - loss: 0.1415 - acc: 0.9471 - val_loss: 0.1883 - val_acc: 0.9233\n",
      "Epoch 8/10\n",
      "48000/48000 [==============================] - 45s - loss: 0.1337 - acc: 0.9493 - val_loss: 0.1934 - val_acc: 0.9223\n",
      "Epoch 9/10\n",
      "48000/48000 [==============================] - 46s - loss: 0.1275 - acc: 0.9525 - val_loss: 0.2068 - val_acc: 0.9213\n",
      "Epoch 10/10\n",
      "48000/48000 [==============================] - 39s - loss: 0.1220 - acc: 0.9539 - val_loss: 0.1955 - val_acc: 0.9214\n"
     ]
    }
   ],
   "source": [
    "from keras.layers import LSTM\n",
    "\n",
    "model = Sequential()\n",
    "model.add(Embedding(8000, 32))\n",
    "model.add(LSTM(32))\n",
    "model.add(Dense(1, activation='sigmoid'))\n",
    "\n",
    "model.compile(optimizer='rmsprop',\n",
    "              loss='binary_crossentropy',\n",
    "              metrics=['acc'])\n",
    "history = model.fit(x_train, y_train,\n",
    "                    epochs=10,\n",
    "                    batch_size=128,\n",
    "                    validation_split=.2)"
   ]
  },
  {
   "cell_type": "code",
   "execution_count": 11,
   "metadata": {},
   "outputs": [
    {
     "data": {
      "image/png": "[encoded data removed]",
      "text/plain": [
       "<Figure size 432x288 with 1 Axes>"
      ]
     },
     "metadata": {
      "needs_background": "light"
     },
     "output_type": "display_data"
    },
    {
     "data": {
      "image/png": "[encoded data removed]",
      "text/plain": [
       "<Figure size 432x288 with 1 Axes>"
      ]
     },
     "metadata": {
      "needs_background": "light"
     },
     "output_type": "display_data"
    }
   ],
   "source": [
    "plot(history)"
   ]
  },
  {
   "cell_type": "code",
   "execution_count": 12,
   "metadata": {
    "scrolled": true
   },
   "outputs": [],
   "source": [
    "predictions = model.predict(x_test)"
   ]
  },
  {
   "cell_type": "code",
   "execution_count": 13,
   "metadata": {},
   "outputs": [
    {
     "name": "stdout",
     "output_type": "stream",
     "text": [
      "该模型准确率：92.64%\n"
     ]
    }
   ],
   "source": [
    "def test_validation(predictions, y_test=None):\n",
    "    result = []\n",
    "    for _ in predictions:\n",
    "        result.append(int(np.round(_)))\n",
    "    prediction = np.array(result)\n",
    "    try:\n",
    "        print('该模型准确率：{}%'.format(str(round(sum(y_test == prediction)/len(y_test),4)*100)))\n",
    "    except:\n",
    "        return prediction\n",
    "\n",
    "test_validation(predictions,y_test)"
   ]
  },
  {
   "cell_type": "code",
   "execution_count": 15,
   "metadata": {},
   "outputs": [
    {
     "name": "stdout",
     "output_type": "stream",
     "text": [
      "这条博文太赞啦！ 正向评论 正向度：97.21%\n",
      "矮油，上头版了? //@瓦力城市漫??:这个。。压力更大了。。丑媳妇终于见了公婆[嘻嘻][哈哈][给力]。亲们可不要嫌弃我啊。[泪][泪][泪][泪] 负向评论 正向度：20.07%\n",
      "人弱被人欺[怒] //@黄西Joe_Wong: 所有的人，中国人和美国人在内，都应该读一下这个发自肺腑的讲演。美国20年发现越来越多的现象只能用种族主义来解释！ //@Libra- 负向评论 正向度：23.95%\n"
     ]
    },
    {
     "name": "stderr",
     "output_type": "stream",
     "text": [
      "D:\\miniconda\\envs\\dl-pytorch-1.7.0\\lib\\site-packages\\ipykernel_launcher.py:11: VisibleDeprecationWarning: Creating an ndarray from ragged nested sequences (which is a list-or-tuple of lists-or-tuples-or ndarrays with different lengths or shapes) is deprecated. If you meant to do this, you must specify 'dtype=object' when creating the ndarray\n",
      "  # This is added back by InteractiveShellApp.init_path()\n"
     ]
    }
   ],
   "source": [
    "def show_result(path):\n",
    "    data = constructor(path)\n",
    "    result = processor(data)\n",
    "    result = preprocessing.sequence.pad_sequences(result, maxlen=maxlen)\n",
    "    predictions = model.predict(result)\n",
    "    prediction = test_validation(predictions)\n",
    "    with open(path,'r',encoding='gbk',errors='ignore') as f:  #txt为ANSI格式\n",
    "        df = []\n",
    "        for line in f.readlines():\n",
    "            df.append(line.strip().split('\\t'))\n",
    "        data = pd.DataFrame(df)\n",
    "        f.close()\n",
    "        for _,label,prob in zip(data[0],prediction, predictions):\n",
    "            print(_, '正向评论' if label==1 else '负向评论','正向度：'+str(round((prob[0])*100,2))+'%')\n",
    "    return\n",
    "\n",
    "show_result('D:/娱乐交接文档/MD明星指数模型/可视化项目/mightUse/test_sample.txt')"
   ]
  },
  {
   "cell_type": "code",
   "execution_count": 16,
   "metadata": {},
   "outputs": [
    {
     "name": "stdout",
     "output_type": "stream",
     "text": [
      "负向评论\n",
      "正向度：17.5%\n"
     ]
    }
   ],
   "source": [
    "def real_time_show(strs):\n",
    "    sample = strs\n",
    "    sample_data = []\n",
    "    for _ in sample:\n",
    "        sample_data.append(hashmap.get(_))\n",
    "    sample_data = list(filter(None, sample_data)) #中文字符的，。不包含在内\n",
    "    result = preprocessing.sequence.pad_sequences([sample_data], maxlen=maxlen)\n",
    "    predictions = model.predict(result)\n",
    "    prediction = test_validation(predictions)\n",
    "    probability = predictions[0][0]\n",
    "    print('正向评论' if np.round(prediction[0]) == 1 else '负向评论','正向度：'+ \\\n",
    "          str(round(probability*100,1)) + '%',sep='\\n')\n",
    "    return\n",
    "\n",
    "#原博文链接：https://s.weibo.com/weibo?q=%E6%88%91%E8%AE%A4%E7%9C%9F%E9%97%AE%E9%97%AE%E5%95%8A\n",
    "real_time_show('我认真问问啊，我爸是演员，他演的戏播一部喊一部好烂看不下去我不想看，\\\n",
    "                那在追什么，追空气吗[哆啦A梦害怕]更何况小花园真的可圈可点吧，\\\n",
    "                我最开始也不抱什么希望打开的啊现在不带滤镜也觉得真挺好看的，\\\n",
    "                而且小花园是我爸第一部上星剧对他后续发展真的挺重要的……可能我就是追星洁癖吧，\\\n",
    "                我不知道你们怎么定义的，反正我觉得只嗑糖跟糖无关的都没什么兴趣真的在把他俩当嗑糖工具人')"
   ]
  },
  {
   "cell_type": "code",
   "execution_count": 17,
   "metadata": {
    "scrolled": true
   },
   "outputs": [
    {
     "name": "stdout",
     "output_type": "stream",
     "text": [
      "正向评论\n",
      "正向度：89.7%\n"
     ]
    }
   ],
   "source": [
    "#原博文链接：https://s.weibo.com/weibo?q=%E7%94%B1%E5%90%B4%E7%8F%8A%E5%8D%93%E5%8F%82%E4%B8%8E%E9%85%8D%E9%9F%B3%E7%9A%84%E7%9A%AE%E5%85%8B%E6%96%AF\n",
    "real_time_show('由吴珊卓参与配音的皮克斯最新动画《青春变形记》今天在全球Disney+平台正式上线，\\\n",
    "                烂番茄新鲜度95%，MTC 85分，口碑十分优秀，不上院线十分可惜。\\\n",
    "                （所以好片都上流媒体，烂片才给院线？')"
   ]
  },
  {
   "cell_type": "code",
   "execution_count": 18,
   "metadata": {},
   "outputs": [
    {
     "data": {
      "text/plain": [
       "'[吃惊]//@李开复:[晕]'"
      ]
     },
     "execution_count": 18,
     "metadata": {},
     "output_type": "execute_result"
    }
   ],
   "source": [
    "#还原原文\n",
    "def get_keys(d, value):\n",
    "    return [k for k,v in d.items() if v == value]\n",
    "\n",
    "strs = \"\"\n",
    "for i in x_test[-2]:\n",
    "    try:\n",
    "        strs += str(get_keys(hashmap,i)[0])\n",
    "    except:\n",
    "        pass\n",
    "strs"
   ]
  },
  {
   "cell_type": "code",
   "execution_count": null,
   "metadata": {},
   "outputs": [],
   "source": []
  }
 ],
 "metadata": {
  "kernelspec": {
   "display_name": "Python 3",
   "language": "python",
   "name": "python3"
  },
  "language_info": {
   "codemirror_mode": {
    "name": "ipython",
    "version": 3
   },
   "file_extension": ".py",
   "mimetype": "text/x-python",
   "name": "python",
   "nbconvert_exporter": "python",
   "pygments_lexer": "ipython3",
   "version": "3.6.13"
  }
 },
 "nbformat": 4,
 "nbformat_minor": 4
}
